{
 "cells": [
  {
   "cell_type": "code",
   "execution_count": null,
   "metadata": {},
   "outputs": [],
   "source": [
    "import shutil    #单机台\n",
    "import time\n",
    "import os\n",
    "path='D:\\\\SPI\\\\SPIDATA'\n",
    "while 1==1:\n",
    "    if not os.listdir('D:\\\\SPI\\\\SPIDATA_Move'):\n",
    "        print('--------NO SUCH File--------')\n",
    "        print('Move Over')\n",
    "        break\n",
    "    else:\n",
    "        for info in os.listdir(r'D:\\\\SPI\\\\SPIDATA_Move'):\n",
    "            domain=os.path.abspath(r'D:\\\\SPI\\\\SPIDATA_Move')  #获取文件夹的路径\n",
    "            info=os.path.join(domain,info)\n",
    "            shutil.move(info,path)\n",
    "            time.sleep(2)\n",
    "            print('Move File：%s'%info)"
   ]
  },
  {
   "cell_type": "code",
   "execution_count": 6,
   "metadata": {
    "scrolled": true
   },
   "outputs": [
    {
     "name": "stdout",
     "output_type": "stream",
     "text": [
      "--------NO SUCH File--------\n",
      "--------NO SUCH File--------\n",
      "--------NO SUCH File--------\n",
      "--------NO SUCH File--------\n",
      "--------NO SUCH File--------\n",
      "--------NO SUCH File--------\n",
      "--------NO SUCH File--------\n",
      "--------NO SUCH File--------\n",
      "--------NO SUCH File--------\n",
      "--------NO SUCH File--------\n",
      "--------NO SUCH File--------\n",
      "--------NO SUCH File--------\n",
      "--------NO SUCH File--------\n",
      "--------NO SUCH File--------\n",
      "--------NO SUCH File--------\n",
      "--------NO SUCH File--------\n",
      "--------NO SUCH File--------\n"
     ]
    },
    {
     "ename": "KeyboardInterrupt",
     "evalue": "",
     "output_type": "error",
     "traceback": [
      "\u001b[1;31m---------------------------------------------------------------------------\u001b[0m",
      "\u001b[1;31mKeyboardInterrupt\u001b[0m                         Traceback (most recent call last)",
      "\u001b[1;32m<ipython-input-6-18c197a63b08>\u001b[0m in \u001b[0;36m<module>\u001b[1;34m()\u001b[0m\n\u001b[0;32m     27\u001b[0m     \u001b[1;32mreturn\u001b[0m \u001b[0mx\u001b[0m\u001b[1;33m\u001b[0m\u001b[0m\n\u001b[0;32m     28\u001b[0m \u001b[1;32mwhile\u001b[0m \u001b[1;36m1\u001b[0m\u001b[1;33m==\u001b[0m\u001b[1;36m1\u001b[0m\u001b[1;33m:\u001b[0m\u001b[1;33m\u001b[0m\u001b[0m\n\u001b[1;32m---> 29\u001b[1;33m     \u001b[0mmovefile\u001b[0m\u001b[1;33m(\u001b[0m\u001b[0mf\u001b[0m\u001b[1;33m)\u001b[0m\u001b[1;33m\u001b[0m\u001b[0m\n\u001b[0m",
      "\u001b[1;32m<ipython-input-6-18c197a63b08>\u001b[0m in \u001b[0;36mmovefile\u001b[1;34m(x)\u001b[0m\n\u001b[0;32m     24\u001b[0m                 \u001b[0mshutil\u001b[0m\u001b[1;33m.\u001b[0m\u001b[0mmove\u001b[0m\u001b[1;33m(\u001b[0m\u001b[0minfo\u001b[0m\u001b[1;33m,\u001b[0m\u001b[0mpath1\u001b[0m\u001b[1;33m)\u001b[0m\u001b[1;33m\u001b[0m\u001b[0m\n\u001b[0;32m     25\u001b[0m                 \u001b[1;32mbreak\u001b[0m\u001b[1;33m\u001b[0m\u001b[0m\n\u001b[1;32m---> 26\u001b[1;33m     \u001b[0mtime\u001b[0m\u001b[1;33m.\u001b[0m\u001b[0msleep\u001b[0m\u001b[1;33m(\u001b[0m\u001b[1;36m2\u001b[0m\u001b[1;33m)\u001b[0m\u001b[1;33m\u001b[0m\u001b[0m\n\u001b[0m\u001b[0;32m     27\u001b[0m     \u001b[1;32mreturn\u001b[0m \u001b[0mx\u001b[0m\u001b[1;33m\u001b[0m\u001b[0m\n\u001b[0;32m     28\u001b[0m \u001b[1;32mwhile\u001b[0m \u001b[1;36m1\u001b[0m\u001b[1;33m==\u001b[0m\u001b[1;36m1\u001b[0m\u001b[1;33m:\u001b[0m\u001b[1;33m\u001b[0m\u001b[0m\n",
      "\u001b[1;31mKeyboardInterrupt\u001b[0m: "
     ]
    }
   ],
   "source": [
    "import shutil    #多机台\n",
    "import time\n",
    "import os\n",
    "import concurrent.futures\n",
    "# with concurrent.futures.process as executor:\n",
    "from concurrent.futures import ProcessPoolExecutor\n",
    "\n",
    "f='D:\\\\SPI'\n",
    "f1='SPIDATA'\n",
    "f2='SPIDATA_Move'\n",
    "ff=os.listdir(f)\n",
    "\n",
    "def movefile(x):\n",
    "    x=os.listdir(x)\n",
    "    for i in x:\n",
    "        path1=os.path.join(f,i,f1)\n",
    "        path2=os.path.join(f,i,f2)\n",
    "        if not os.listdir(path2):\n",
    "            print('--------NO SUCH File--------')           \n",
    "            break\n",
    "        else:\n",
    "            for info in os.listdir(path2):            \n",
    "                info=os.path.join(path2,info)        \n",
    "                shutil.move(info,path1)\n",
    "                break\n",
    "    time.sleep(2)\n",
    "    return x\n",
    "while 1==1:\n",
    "    movefile(f)\n"
   ]
  },
  {
   "cell_type": "code",
   "execution_count": null,
   "metadata": {},
   "outputs": [],
   "source": [
    "from concurrent.futures import ProcessPoolExecutor  #多进程\n",
    "from concurrent.futures import ThreadPoolExecutor  #多线程\n",
    "\n",
    "import time\n",
    "def return_future_result(message):\n",
    "    time.sleep(2)\n",
    "    return message\n",
    "pool = ThreadPoolExecutor(max_workers=2)  # 创建一个最大可容纳2个task的线程池\n",
    "future1 = pool.submit(return_future_result, (\"hello\"))  # 往线程池里面加入一个task\n",
    "future2 = pool.submit(return_future_result, (\"world\"))  # 往线程池里面加入一个task\n",
    "print(future1.done())  # 判断task1是否结束\n",
    "time.sleep(3)\n",
    "print(future2.done())  # 判断task2是否结束\n",
    "print(future1.result())  # 查看task1返回的结果\n",
    "print(future2.result())  # 查看task2返回的结果\n"
   ]
  },
  {
   "cell_type": "code",
   "execution_count": null,
   "metadata": {
    "scrolled": true
   },
   "outputs": [],
   "source": []
  }
 ],
 "metadata": {
  "kernelspec": {
   "display_name": "Python 3",
   "language": "python",
   "name": "python3"
  },
  "language_info": {
   "codemirror_mode": {
    "name": "ipython",
    "version": 3
   },
   "file_extension": ".py",
   "mimetype": "text/x-python",
   "name": "python",
   "nbconvert_exporter": "python",
   "pygments_lexer": "ipython3",
   "version": "3.6.5"
  }
 },
 "nbformat": 4,
 "nbformat_minor": 2
}
